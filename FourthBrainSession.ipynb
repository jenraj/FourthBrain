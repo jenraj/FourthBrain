{
  "nbformat": 4,
  "nbformat_minor": 0,
  "metadata": {
    "colab": {
      "provenance": [],
      "machine_shape": "hm",
      "gpuType": "A100",
      "authorship_tag": "ABX9TyMFCPpHRU95/O/OMgeaE0Jb",
      "include_colab_link": true
    },
    "kernelspec": {
      "name": "python3",
      "display_name": "Python 3"
    },
    "language_info": {
      "name": "python"
    },
    "widgets": {
      "application/vnd.jupyter.widget-state+json": {
        "1e158a3f491e421790d71d2472caeefc": {
          "model_module": "@jupyter-widgets/controls",
          "model_name": "HBoxModel",
          "model_module_version": "1.5.0",
          "state": {
            "_dom_classes": [],
            "_model_module": "@jupyter-widgets/controls",
            "_model_module_version": "1.5.0",
            "_model_name": "HBoxModel",
            "_view_count": null,
            "_view_module": "@jupyter-widgets/controls",
            "_view_module_version": "1.5.0",
            "_view_name": "HBoxView",
            "box_style": "",
            "children": [
              "IPY_MODEL_868cff79d3074d1ab3492666df8a5ebc",
              "IPY_MODEL_69f196a5587b4d2780c7941a27c3e3ff",
              "IPY_MODEL_8a7646a0735c49f298fb9679b117af8e"
            ],
            "layout": "IPY_MODEL_c3c653c3a0154f0faf120c09dd353c9f"
          }
        },
        "868cff79d3074d1ab3492666df8a5ebc": {
          "model_module": "@jupyter-widgets/controls",
          "model_name": "HTMLModel",
          "model_module_version": "1.5.0",
          "state": {
            "_dom_classes": [],
            "_model_module": "@jupyter-widgets/controls",
            "_model_module_version": "1.5.0",
            "_model_name": "HTMLModel",
            "_view_count": null,
            "_view_module": "@jupyter-widgets/controls",
            "_view_module_version": "1.5.0",
            "_view_name": "HTMLView",
            "description": "",
            "description_tooltip": null,
            "layout": "IPY_MODEL_adf055d5db8040f194dc704ca29f3baa",
            "placeholder": "​",
            "style": "IPY_MODEL_2e0b61dbe09f4e02a1aeaf2569f80dd1",
            "value": "Pushing dataset shards to the dataset hub: 100%"
          }
        },
        "69f196a5587b4d2780c7941a27c3e3ff": {
          "model_module": "@jupyter-widgets/controls",
          "model_name": "FloatProgressModel",
          "model_module_version": "1.5.0",
          "state": {
            "_dom_classes": [],
            "_model_module": "@jupyter-widgets/controls",
            "_model_module_version": "1.5.0",
            "_model_name": "FloatProgressModel",
            "_view_count": null,
            "_view_module": "@jupyter-widgets/controls",
            "_view_module_version": "1.5.0",
            "_view_name": "ProgressView",
            "bar_style": "success",
            "description": "",
            "description_tooltip": null,
            "layout": "IPY_MODEL_811057130a9b4ec5a17a8f4883286be1",
            "max": 1,
            "min": 0,
            "orientation": "horizontal",
            "style": "IPY_MODEL_ca948c65c3b7448990b1da5c9839bca5",
            "value": 1
          }
        },
        "8a7646a0735c49f298fb9679b117af8e": {
          "model_module": "@jupyter-widgets/controls",
          "model_name": "HTMLModel",
          "model_module_version": "1.5.0",
          "state": {
            "_dom_classes": [],
            "_model_module": "@jupyter-widgets/controls",
            "_model_module_version": "1.5.0",
            "_model_name": "HTMLModel",
            "_view_count": null,
            "_view_module": "@jupyter-widgets/controls",
            "_view_module_version": "1.5.0",
            "_view_name": "HTMLView",
            "description": "",
            "description_tooltip": null,
            "layout": "IPY_MODEL_2fc77810f270450cbb06066a693e11bd",
            "placeholder": "​",
            "style": "IPY_MODEL_33691c99bfc14f89a37003165c9d663e",
            "value": " 1/1 [00:01&lt;00:00,  1.74s/it]"
          }
        },
        "c3c653c3a0154f0faf120c09dd353c9f": {
          "model_module": "@jupyter-widgets/base",
          "model_name": "LayoutModel",
          "model_module_version": "1.2.0",
          "state": {
            "_model_module": "@jupyter-widgets/base",
            "_model_module_version": "1.2.0",
            "_model_name": "LayoutModel",
            "_view_count": null,
            "_view_module": "@jupyter-widgets/base",
            "_view_module_version": "1.2.0",
            "_view_name": "LayoutView",
            "align_content": null,
            "align_items": null,
            "align_self": null,
            "border": null,
            "bottom": null,
            "display": null,
            "flex": null,
            "flex_flow": null,
            "grid_area": null,
            "grid_auto_columns": null,
            "grid_auto_flow": null,
            "grid_auto_rows": null,
            "grid_column": null,
            "grid_gap": null,
            "grid_row": null,
            "grid_template_areas": null,
            "grid_template_columns": null,
            "grid_template_rows": null,
            "height": null,
            "justify_content": null,
            "justify_items": null,
            "left": null,
            "margin": null,
            "max_height": null,
            "max_width": null,
            "min_height": null,
            "min_width": null,
            "object_fit": null,
            "object_position": null,
            "order": null,
            "overflow": null,
            "overflow_x": null,
            "overflow_y": null,
            "padding": null,
            "right": null,
            "top": null,
            "visibility": null,
            "width": null
          }
        },
        "adf055d5db8040f194dc704ca29f3baa": {
          "model_module": "@jupyter-widgets/base",
          "model_name": "LayoutModel",
          "model_module_version": "1.2.0",
          "state": {
            "_model_module": "@jupyter-widgets/base",
            "_model_module_version": "1.2.0",
            "_model_name": "LayoutModel",
            "_view_count": null,
            "_view_module": "@jupyter-widgets/base",
            "_view_module_version": "1.2.0",
            "_view_name": "LayoutView",
            "align_content": null,
            "align_items": null,
            "align_self": null,
            "border": null,
            "bottom": null,
            "display": null,
            "flex": null,
            "flex_flow": null,
            "grid_area": null,
            "grid_auto_columns": null,
            "grid_auto_flow": null,
            "grid_auto_rows": null,
            "grid_column": null,
            "grid_gap": null,
            "grid_row": null,
            "grid_template_areas": null,
            "grid_template_columns": null,
            "grid_template_rows": null,
            "height": null,
            "justify_content": null,
            "justify_items": null,
            "left": null,
            "margin": null,
            "max_height": null,
            "max_width": null,
            "min_height": null,
            "min_width": null,
            "object_fit": null,
            "object_position": null,
            "order": null,
            "overflow": null,
            "overflow_x": null,
            "overflow_y": null,
            "padding": null,
            "right": null,
            "top": null,
            "visibility": null,
            "width": null
          }
        },
        "2e0b61dbe09f4e02a1aeaf2569f80dd1": {
          "model_module": "@jupyter-widgets/controls",
          "model_name": "DescriptionStyleModel",
          "model_module_version": "1.5.0",
          "state": {
            "_model_module": "@jupyter-widgets/controls",
            "_model_module_version": "1.5.0",
            "_model_name": "DescriptionStyleModel",
            "_view_count": null,
            "_view_module": "@jupyter-widgets/base",
            "_view_module_version": "1.2.0",
            "_view_name": "StyleView",
            "description_width": ""
          }
        },
        "811057130a9b4ec5a17a8f4883286be1": {
          "model_module": "@jupyter-widgets/base",
          "model_name": "LayoutModel",
          "model_module_version": "1.2.0",
          "state": {
            "_model_module": "@jupyter-widgets/base",
            "_model_module_version": "1.2.0",
            "_model_name": "LayoutModel",
            "_view_count": null,
            "_view_module": "@jupyter-widgets/base",
            "_view_module_version": "1.2.0",
            "_view_name": "LayoutView",
            "align_content": null,
            "align_items": null,
            "align_self": null,
            "border": null,
            "bottom": null,
            "display": null,
            "flex": null,
            "flex_flow": null,
            "grid_area": null,
            "grid_auto_columns": null,
            "grid_auto_flow": null,
            "grid_auto_rows": null,
            "grid_column": null,
            "grid_gap": null,
            "grid_row": null,
            "grid_template_areas": null,
            "grid_template_columns": null,
            "grid_template_rows": null,
            "height": null,
            "justify_content": null,
            "justify_items": null,
            "left": null,
            "margin": null,
            "max_height": null,
            "max_width": null,
            "min_height": null,
            "min_width": null,
            "object_fit": null,
            "object_position": null,
            "order": null,
            "overflow": null,
            "overflow_x": null,
            "overflow_y": null,
            "padding": null,
            "right": null,
            "top": null,
            "visibility": null,
            "width": null
          }
        },
        "ca948c65c3b7448990b1da5c9839bca5": {
          "model_module": "@jupyter-widgets/controls",
          "model_name": "ProgressStyleModel",
          "model_module_version": "1.5.0",
          "state": {
            "_model_module": "@jupyter-widgets/controls",
            "_model_module_version": "1.5.0",
            "_model_name": "ProgressStyleModel",
            "_view_count": null,
            "_view_module": "@jupyter-widgets/base",
            "_view_module_version": "1.2.0",
            "_view_name": "StyleView",
            "bar_color": null,
            "description_width": ""
          }
        },
        "2fc77810f270450cbb06066a693e11bd": {
          "model_module": "@jupyter-widgets/base",
          "model_name": "LayoutModel",
          "model_module_version": "1.2.0",
          "state": {
            "_model_module": "@jupyter-widgets/base",
            "_model_module_version": "1.2.0",
            "_model_name": "LayoutModel",
            "_view_count": null,
            "_view_module": "@jupyter-widgets/base",
            "_view_module_version": "1.2.0",
            "_view_name": "LayoutView",
            "align_content": null,
            "align_items": null,
            "align_self": null,
            "border": null,
            "bottom": null,
            "display": null,
            "flex": null,
            "flex_flow": null,
            "grid_area": null,
            "grid_auto_columns": null,
            "grid_auto_flow": null,
            "grid_auto_rows": null,
            "grid_column": null,
            "grid_gap": null,
            "grid_row": null,
            "grid_template_areas": null,
            "grid_template_columns": null,
            "grid_template_rows": null,
            "height": null,
            "justify_content": null,
            "justify_items": null,
            "left": null,
            "margin": null,
            "max_height": null,
            "max_width": null,
            "min_height": null,
            "min_width": null,
            "object_fit": null,
            "object_position": null,
            "order": null,
            "overflow": null,
            "overflow_x": null,
            "overflow_y": null,
            "padding": null,
            "right": null,
            "top": null,
            "visibility": null,
            "width": null
          }
        },
        "33691c99bfc14f89a37003165c9d663e": {
          "model_module": "@jupyter-widgets/controls",
          "model_name": "DescriptionStyleModel",
          "model_module_version": "1.5.0",
          "state": {
            "_model_module": "@jupyter-widgets/controls",
            "_model_module_version": "1.5.0",
            "_model_name": "DescriptionStyleModel",
            "_view_count": null,
            "_view_module": "@jupyter-widgets/base",
            "_view_module_version": "1.2.0",
            "_view_name": "StyleView",
            "description_width": ""
          }
        },
        "05337cd65464404fa3ee8476da179958": {
          "model_module": "@jupyter-widgets/controls",
          "model_name": "HBoxModel",
          "model_module_version": "1.5.0",
          "state": {
            "_dom_classes": [],
            "_model_module": "@jupyter-widgets/controls",
            "_model_module_version": "1.5.0",
            "_model_name": "HBoxModel",
            "_view_count": null,
            "_view_module": "@jupyter-widgets/controls",
            "_view_module_version": "1.5.0",
            "_view_name": "HBoxView",
            "box_style": "",
            "children": [
              "IPY_MODEL_64028a6012e94f159462633625872f9f",
              "IPY_MODEL_1f28b9903dbc4c3ab52bdc9fc39d553a",
              "IPY_MODEL_9db5dcbacb864bd3bc3ea1d9054707e3"
            ],
            "layout": "IPY_MODEL_cecab8faa57d4ed0a9e90e41d21a2150"
          }
        },
        "64028a6012e94f159462633625872f9f": {
          "model_module": "@jupyter-widgets/controls",
          "model_name": "HTMLModel",
          "model_module_version": "1.5.0",
          "state": {
            "_dom_classes": [],
            "_model_module": "@jupyter-widgets/controls",
            "_model_module_version": "1.5.0",
            "_model_name": "HTMLModel",
            "_view_count": null,
            "_view_module": "@jupyter-widgets/controls",
            "_view_module_version": "1.5.0",
            "_view_name": "HTMLView",
            "description": "",
            "description_tooltip": null,
            "layout": "IPY_MODEL_f69aee8efe5741fabedee429951a8d05",
            "placeholder": "​",
            "style": "IPY_MODEL_d7024c28a5034593bb377119dd15c8b1",
            "value": "Creating parquet from Arrow format: 100%"
          }
        },
        "1f28b9903dbc4c3ab52bdc9fc39d553a": {
          "model_module": "@jupyter-widgets/controls",
          "model_name": "FloatProgressModel",
          "model_module_version": "1.5.0",
          "state": {
            "_dom_classes": [],
            "_model_module": "@jupyter-widgets/controls",
            "_model_module_version": "1.5.0",
            "_model_name": "FloatProgressModel",
            "_view_count": null,
            "_view_module": "@jupyter-widgets/controls",
            "_view_module_version": "1.5.0",
            "_view_name": "ProgressView",
            "bar_style": "success",
            "description": "",
            "description_tooltip": null,
            "layout": "IPY_MODEL_aba777ebc341460e916264f640d18458",
            "max": 1,
            "min": 0,
            "orientation": "horizontal",
            "style": "IPY_MODEL_2b56937a296a484f8ea12e6d839ec0fc",
            "value": 1
          }
        },
        "9db5dcbacb864bd3bc3ea1d9054707e3": {
          "model_module": "@jupyter-widgets/controls",
          "model_name": "HTMLModel",
          "model_module_version": "1.5.0",
          "state": {
            "_dom_classes": [],
            "_model_module": "@jupyter-widgets/controls",
            "_model_module_version": "1.5.0",
            "_model_name": "HTMLModel",
            "_view_count": null,
            "_view_module": "@jupyter-widgets/controls",
            "_view_module_version": "1.5.0",
            "_view_name": "HTMLView",
            "description": "",
            "description_tooltip": null,
            "layout": "IPY_MODEL_1f3953cc19c54b469a453997b710bf5a",
            "placeholder": "​",
            "style": "IPY_MODEL_784bbceb617e4849b48d6cfa55c7328a",
            "value": " 1/1 [00:00&lt;00:00, 40.14ba/s]"
          }
        },
        "cecab8faa57d4ed0a9e90e41d21a2150": {
          "model_module": "@jupyter-widgets/base",
          "model_name": "LayoutModel",
          "model_module_version": "1.2.0",
          "state": {
            "_model_module": "@jupyter-widgets/base",
            "_model_module_version": "1.2.0",
            "_model_name": "LayoutModel",
            "_view_count": null,
            "_view_module": "@jupyter-widgets/base",
            "_view_module_version": "1.2.0",
            "_view_name": "LayoutView",
            "align_content": null,
            "align_items": null,
            "align_self": null,
            "border": null,
            "bottom": null,
            "display": null,
            "flex": null,
            "flex_flow": null,
            "grid_area": null,
            "grid_auto_columns": null,
            "grid_auto_flow": null,
            "grid_auto_rows": null,
            "grid_column": null,
            "grid_gap": null,
            "grid_row": null,
            "grid_template_areas": null,
            "grid_template_columns": null,
            "grid_template_rows": null,
            "height": null,
            "justify_content": null,
            "justify_items": null,
            "left": null,
            "margin": null,
            "max_height": null,
            "max_width": null,
            "min_height": null,
            "min_width": null,
            "object_fit": null,
            "object_position": null,
            "order": null,
            "overflow": null,
            "overflow_x": null,
            "overflow_y": null,
            "padding": null,
            "right": null,
            "top": null,
            "visibility": null,
            "width": null
          }
        },
        "f69aee8efe5741fabedee429951a8d05": {
          "model_module": "@jupyter-widgets/base",
          "model_name": "LayoutModel",
          "model_module_version": "1.2.0",
          "state": {
            "_model_module": "@jupyter-widgets/base",
            "_model_module_version": "1.2.0",
            "_model_name": "LayoutModel",
            "_view_count": null,
            "_view_module": "@jupyter-widgets/base",
            "_view_module_version": "1.2.0",
            "_view_name": "LayoutView",
            "align_content": null,
            "align_items": null,
            "align_self": null,
            "border": null,
            "bottom": null,
            "display": null,
            "flex": null,
            "flex_flow": null,
            "grid_area": null,
            "grid_auto_columns": null,
            "grid_auto_flow": null,
            "grid_auto_rows": null,
            "grid_column": null,
            "grid_gap": null,
            "grid_row": null,
            "grid_template_areas": null,
            "grid_template_columns": null,
            "grid_template_rows": null,
            "height": null,
            "justify_content": null,
            "justify_items": null,
            "left": null,
            "margin": null,
            "max_height": null,
            "max_width": null,
            "min_height": null,
            "min_width": null,
            "object_fit": null,
            "object_position": null,
            "order": null,
            "overflow": null,
            "overflow_x": null,
            "overflow_y": null,
            "padding": null,
            "right": null,
            "top": null,
            "visibility": null,
            "width": null
          }
        },
        "d7024c28a5034593bb377119dd15c8b1": {
          "model_module": "@jupyter-widgets/controls",
          "model_name": "DescriptionStyleModel",
          "model_module_version": "1.5.0",
          "state": {
            "_model_module": "@jupyter-widgets/controls",
            "_model_module_version": "1.5.0",
            "_model_name": "DescriptionStyleModel",
            "_view_count": null,
            "_view_module": "@jupyter-widgets/base",
            "_view_module_version": "1.2.0",
            "_view_name": "StyleView",
            "description_width": ""
          }
        },
        "aba777ebc341460e916264f640d18458": {
          "model_module": "@jupyter-widgets/base",
          "model_name": "LayoutModel",
          "model_module_version": "1.2.0",
          "state": {
            "_model_module": "@jupyter-widgets/base",
            "_model_module_version": "1.2.0",
            "_model_name": "LayoutModel",
            "_view_count": null,
            "_view_module": "@jupyter-widgets/base",
            "_view_module_version": "1.2.0",
            "_view_name": "LayoutView",
            "align_content": null,
            "align_items": null,
            "align_self": null,
            "border": null,
            "bottom": null,
            "display": null,
            "flex": null,
            "flex_flow": null,
            "grid_area": null,
            "grid_auto_columns": null,
            "grid_auto_flow": null,
            "grid_auto_rows": null,
            "grid_column": null,
            "grid_gap": null,
            "grid_row": null,
            "grid_template_areas": null,
            "grid_template_columns": null,
            "grid_template_rows": null,
            "height": null,
            "justify_content": null,
            "justify_items": null,
            "left": null,
            "margin": null,
            "max_height": null,
            "max_width": null,
            "min_height": null,
            "min_width": null,
            "object_fit": null,
            "object_position": null,
            "order": null,
            "overflow": null,
            "overflow_x": null,
            "overflow_y": null,
            "padding": null,
            "right": null,
            "top": null,
            "visibility": null,
            "width": null
          }
        },
        "2b56937a296a484f8ea12e6d839ec0fc": {
          "model_module": "@jupyter-widgets/controls",
          "model_name": "ProgressStyleModel",
          "model_module_version": "1.5.0",
          "state": {
            "_model_module": "@jupyter-widgets/controls",
            "_model_module_version": "1.5.0",
            "_model_name": "ProgressStyleModel",
            "_view_count": null,
            "_view_module": "@jupyter-widgets/base",
            "_view_module_version": "1.2.0",
            "_view_name": "StyleView",
            "bar_color": null,
            "description_width": ""
          }
        },
        "1f3953cc19c54b469a453997b710bf5a": {
          "model_module": "@jupyter-widgets/base",
          "model_name": "LayoutModel",
          "model_module_version": "1.2.0",
          "state": {
            "_model_module": "@jupyter-widgets/base",
            "_model_module_version": "1.2.0",
            "_model_name": "LayoutModel",
            "_view_count": null,
            "_view_module": "@jupyter-widgets/base",
            "_view_module_version": "1.2.0",
            "_view_name": "LayoutView",
            "align_content": null,
            "align_items": null,
            "align_self": null,
            "border": null,
            "bottom": null,
            "display": null,
            "flex": null,
            "flex_flow": null,
            "grid_area": null,
            "grid_auto_columns": null,
            "grid_auto_flow": null,
            "grid_auto_rows": null,
            "grid_column": null,
            "grid_gap": null,
            "grid_row": null,
            "grid_template_areas": null,
            "grid_template_columns": null,
            "grid_template_rows": null,
            "height": null,
            "justify_content": null,
            "justify_items": null,
            "left": null,
            "margin": null,
            "max_height": null,
            "max_width": null,
            "min_height": null,
            "min_width": null,
            "object_fit": null,
            "object_position": null,
            "order": null,
            "overflow": null,
            "overflow_x": null,
            "overflow_y": null,
            "padding": null,
            "right": null,
            "top": null,
            "visibility": null,
            "width": null
          }
        },
        "784bbceb617e4849b48d6cfa55c7328a": {
          "model_module": "@jupyter-widgets/controls",
          "model_name": "DescriptionStyleModel",
          "model_module_version": "1.5.0",
          "state": {
            "_model_module": "@jupyter-widgets/controls",
            "_model_module_version": "1.5.0",
            "_model_name": "DescriptionStyleModel",
            "_view_count": null,
            "_view_module": "@jupyter-widgets/base",
            "_view_module_version": "1.2.0",
            "_view_name": "StyleView",
            "description_width": ""
          }
        },
        "71212e6659d14e28a622b8f884e54f69": {
          "model_module": "@jupyter-widgets/controls",
          "model_name": "HBoxModel",
          "model_module_version": "1.5.0",
          "state": {
            "_dom_classes": [],
            "_model_module": "@jupyter-widgets/controls",
            "_model_module_version": "1.5.0",
            "_model_name": "HBoxModel",
            "_view_count": null,
            "_view_module": "@jupyter-widgets/controls",
            "_view_module_version": "1.5.0",
            "_view_name": "HBoxView",
            "box_style": "",
            "children": [
              "IPY_MODEL_01c944a76a5647ebad8bf1ffc024e151",
              "IPY_MODEL_596a04e9078f413db7af488fa69f2491",
              "IPY_MODEL_55c4ac6717014046963c184e6d54b78c"
            ],
            "layout": "IPY_MODEL_6bf4da488e0c4f6d97636eaf51695010"
          }
        },
        "01c944a76a5647ebad8bf1ffc024e151": {
          "model_module": "@jupyter-widgets/controls",
          "model_name": "HTMLModel",
          "model_module_version": "1.5.0",
          "state": {
            "_dom_classes": [],
            "_model_module": "@jupyter-widgets/controls",
            "_model_module_version": "1.5.0",
            "_model_name": "HTMLModel",
            "_view_count": null,
            "_view_module": "@jupyter-widgets/controls",
            "_view_module_version": "1.5.0",
            "_view_name": "HTMLView",
            "description": "",
            "description_tooltip": null,
            "layout": "IPY_MODEL_07dd6eb7bb1b405081587269338c213e",
            "placeholder": "​",
            "style": "IPY_MODEL_d8ac18da6650483eaa676beabf13308b",
            "value": "Upload 1 LFS files: 100%"
          }
        },
        "596a04e9078f413db7af488fa69f2491": {
          "model_module": "@jupyter-widgets/controls",
          "model_name": "FloatProgressModel",
          "model_module_version": "1.5.0",
          "state": {
            "_dom_classes": [],
            "_model_module": "@jupyter-widgets/controls",
            "_model_module_version": "1.5.0",
            "_model_name": "FloatProgressModel",
            "_view_count": null,
            "_view_module": "@jupyter-widgets/controls",
            "_view_module_version": "1.5.0",
            "_view_name": "ProgressView",
            "bar_style": "success",
            "description": "",
            "description_tooltip": null,
            "layout": "IPY_MODEL_e3633b8a6d694d34a0f3dd912e2c103b",
            "max": 1,
            "min": 0,
            "orientation": "horizontal",
            "style": "IPY_MODEL_c569fa72a86646d1a6b34714e3764969",
            "value": 1
          }
        },
        "55c4ac6717014046963c184e6d54b78c": {
          "model_module": "@jupyter-widgets/controls",
          "model_name": "HTMLModel",
          "model_module_version": "1.5.0",
          "state": {
            "_dom_classes": [],
            "_model_module": "@jupyter-widgets/controls",
            "_model_module_version": "1.5.0",
            "_model_name": "HTMLModel",
            "_view_count": null,
            "_view_module": "@jupyter-widgets/controls",
            "_view_module_version": "1.5.0",
            "_view_name": "HTMLView",
            "description": "",
            "description_tooltip": null,
            "layout": "IPY_MODEL_241b15e2eec540358efc01cad738f77c",
            "placeholder": "​",
            "style": "IPY_MODEL_6c8dd791fa0e4722babf8e14a1532b5f",
            "value": " 1/1 [00:00&lt;00:00,  3.18it/s]"
          }
        },
        "6bf4da488e0c4f6d97636eaf51695010": {
          "model_module": "@jupyter-widgets/base",
          "model_name": "LayoutModel",
          "model_module_version": "1.2.0",
          "state": {
            "_model_module": "@jupyter-widgets/base",
            "_model_module_version": "1.2.0",
            "_model_name": "LayoutModel",
            "_view_count": null,
            "_view_module": "@jupyter-widgets/base",
            "_view_module_version": "1.2.0",
            "_view_name": "LayoutView",
            "align_content": null,
            "align_items": null,
            "align_self": null,
            "border": null,
            "bottom": null,
            "display": null,
            "flex": null,
            "flex_flow": null,
            "grid_area": null,
            "grid_auto_columns": null,
            "grid_auto_flow": null,
            "grid_auto_rows": null,
            "grid_column": null,
            "grid_gap": null,
            "grid_row": null,
            "grid_template_areas": null,
            "grid_template_columns": null,
            "grid_template_rows": null,
            "height": null,
            "justify_content": null,
            "justify_items": null,
            "left": null,
            "margin": null,
            "max_height": null,
            "max_width": null,
            "min_height": null,
            "min_width": null,
            "object_fit": null,
            "object_position": null,
            "order": null,
            "overflow": null,
            "overflow_x": null,
            "overflow_y": null,
            "padding": null,
            "right": null,
            "top": null,
            "visibility": null,
            "width": null
          }
        },
        "07dd6eb7bb1b405081587269338c213e": {
          "model_module": "@jupyter-widgets/base",
          "model_name": "LayoutModel",
          "model_module_version": "1.2.0",
          "state": {
            "_model_module": "@jupyter-widgets/base",
            "_model_module_version": "1.2.0",
            "_model_name": "LayoutModel",
            "_view_count": null,
            "_view_module": "@jupyter-widgets/base",
            "_view_module_version": "1.2.0",
            "_view_name": "LayoutView",
            "align_content": null,
            "align_items": null,
            "align_self": null,
            "border": null,
            "bottom": null,
            "display": null,
            "flex": null,
            "flex_flow": null,
            "grid_area": null,
            "grid_auto_columns": null,
            "grid_auto_flow": null,
            "grid_auto_rows": null,
            "grid_column": null,
            "grid_gap": null,
            "grid_row": null,
            "grid_template_areas": null,
            "grid_template_columns": null,
            "grid_template_rows": null,
            "height": null,
            "justify_content": null,
            "justify_items": null,
            "left": null,
            "margin": null,
            "max_height": null,
            "max_width": null,
            "min_height": null,
            "min_width": null,
            "object_fit": null,
            "object_position": null,
            "order": null,
            "overflow": null,
            "overflow_x": null,
            "overflow_y": null,
            "padding": null,
            "right": null,
            "top": null,
            "visibility": null,
            "width": null
          }
        },
        "d8ac18da6650483eaa676beabf13308b": {
          "model_module": "@jupyter-widgets/controls",
          "model_name": "DescriptionStyleModel",
          "model_module_version": "1.5.0",
          "state": {
            "_model_module": "@jupyter-widgets/controls",
            "_model_module_version": "1.5.0",
            "_model_name": "DescriptionStyleModel",
            "_view_count": null,
            "_view_module": "@jupyter-widgets/base",
            "_view_module_version": "1.2.0",
            "_view_name": "StyleView",
            "description_width": ""
          }
        },
        "e3633b8a6d694d34a0f3dd912e2c103b": {
          "model_module": "@jupyter-widgets/base",
          "model_name": "LayoutModel",
          "model_module_version": "1.2.0",
          "state": {
            "_model_module": "@jupyter-widgets/base",
            "_model_module_version": "1.2.0",
            "_model_name": "LayoutModel",
            "_view_count": null,
            "_view_module": "@jupyter-widgets/base",
            "_view_module_version": "1.2.0",
            "_view_name": "LayoutView",
            "align_content": null,
            "align_items": null,
            "align_self": null,
            "border": null,
            "bottom": null,
            "display": null,
            "flex": null,
            "flex_flow": null,
            "grid_area": null,
            "grid_auto_columns": null,
            "grid_auto_flow": null,
            "grid_auto_rows": null,
            "grid_column": null,
            "grid_gap": null,
            "grid_row": null,
            "grid_template_areas": null,
            "grid_template_columns": null,
            "grid_template_rows": null,
            "height": null,
            "justify_content": null,
            "justify_items": null,
            "left": null,
            "margin": null,
            "max_height": null,
            "max_width": null,
            "min_height": null,
            "min_width": null,
            "object_fit": null,
            "object_position": null,
            "order": null,
            "overflow": null,
            "overflow_x": null,
            "overflow_y": null,
            "padding": null,
            "right": null,
            "top": null,
            "visibility": null,
            "width": null
          }
        },
        "c569fa72a86646d1a6b34714e3764969": {
          "model_module": "@jupyter-widgets/controls",
          "model_name": "ProgressStyleModel",
          "model_module_version": "1.5.0",
          "state": {
            "_model_module": "@jupyter-widgets/controls",
            "_model_module_version": "1.5.0",
            "_model_name": "ProgressStyleModel",
            "_view_count": null,
            "_view_module": "@jupyter-widgets/base",
            "_view_module_version": "1.2.0",
            "_view_name": "StyleView",
            "bar_color": null,
            "description_width": ""
          }
        },
        "241b15e2eec540358efc01cad738f77c": {
          "model_module": "@jupyter-widgets/base",
          "model_name": "LayoutModel",
          "model_module_version": "1.2.0",
          "state": {
            "_model_module": "@jupyter-widgets/base",
            "_model_module_version": "1.2.0",
            "_model_name": "LayoutModel",
            "_view_count": null,
            "_view_module": "@jupyter-widgets/base",
            "_view_module_version": "1.2.0",
            "_view_name": "LayoutView",
            "align_content": null,
            "align_items": null,
            "align_self": null,
            "border": null,
            "bottom": null,
            "display": null,
            "flex": null,
            "flex_flow": null,
            "grid_area": null,
            "grid_auto_columns": null,
            "grid_auto_flow": null,
            "grid_auto_rows": null,
            "grid_column": null,
            "grid_gap": null,
            "grid_row": null,
            "grid_template_areas": null,
            "grid_template_columns": null,
            "grid_template_rows": null,
            "height": null,
            "justify_content": null,
            "justify_items": null,
            "left": null,
            "margin": null,
            "max_height": null,
            "max_width": null,
            "min_height": null,
            "min_width": null,
            "object_fit": null,
            "object_position": null,
            "order": null,
            "overflow": null,
            "overflow_x": null,
            "overflow_y": null,
            "padding": null,
            "right": null,
            "top": null,
            "visibility": null,
            "width": null
          }
        },
        "6c8dd791fa0e4722babf8e14a1532b5f": {
          "model_module": "@jupyter-widgets/controls",
          "model_name": "DescriptionStyleModel",
          "model_module_version": "1.5.0",
          "state": {
            "_model_module": "@jupyter-widgets/controls",
            "_model_module_version": "1.5.0",
            "_model_name": "DescriptionStyleModel",
            "_view_count": null,
            "_view_module": "@jupyter-widgets/base",
            "_view_module_version": "1.2.0",
            "_view_name": "StyleView",
            "description_width": ""
          }
        }
      }
    }
  },
  "cells": [
    {
      "cell_type": "markdown",
      "metadata": {
        "id": "view-in-github",
        "colab_type": "text"
      },
      "source": [
        "<a href=\"https://colab.research.google.com/github/jenraj/FourthBrain/blob/main/FourthBrainSession.ipynb\" target=\"_parent\"><img src=\"https://colab.research.google.com/assets/colab-badge.svg\" alt=\"Open In Colab\"/></a>"
      ]
    },
    {
      "cell_type": "code",
      "execution_count": 2,
      "metadata": {
        "colab": {
          "base_uri": "https://localhost:8080/"
        },
        "id": "xKIsS5ZZT4i8",
        "outputId": "c14987e1-e9ee-4192-c00f-3e31680c8497"
      },
      "outputs": [
        {
          "output_type": "stream",
          "name": "stdout",
          "text": [
            "\u001b[2K     \u001b[90m━━━━━━━━━━━━━━━━━━━━━━━━━━━━━━━━━━━━━━━━\u001b[0m \u001b[32m73.6/73.6 kB\u001b[0m \u001b[31m3.0 MB/s\u001b[0m eta \u001b[36m0:00:00\u001b[0m\n",
            "\u001b[2K     \u001b[90m━━━━━━━━━━━━━━━━━━━━━━━━━━━━━━━━━━━━━━━━\u001b[0m \u001b[32m1.0/1.0 MB\u001b[0m \u001b[31m19.2 MB/s\u001b[0m eta \u001b[36m0:00:00\u001b[0m\n",
            "\u001b[2K     \u001b[90m━━━━━━━━━━━━━━━━━━━━━━━━━━━━━━━━━━━━━━\u001b[0m \u001b[32m114.5/114.5 kB\u001b[0m \u001b[31m10.8 MB/s\u001b[0m eta \u001b[36m0:00:00\u001b[0m\n",
            "\u001b[2K     \u001b[90m━━━━━━━━━━━━━━━━━━━━━━━━━━━━━━━━━━━━━━\u001b[0m \u001b[32m268.8/268.8 kB\u001b[0m \u001b[31m23.2 MB/s\u001b[0m eta \u001b[36m0:00:00\u001b[0m\n",
            "\u001b[2K     \u001b[90m━━━━━━━━━━━━━━━━━━━━━━━━━━━━━━━━━━━━━━\u001b[0m \u001b[32m149.6/149.6 kB\u001b[0m \u001b[31m14.4 MB/s\u001b[0m eta \u001b[36m0:00:00\u001b[0m\n",
            "\u001b[?25h"
          ]
        }
      ],
      "source": [
        "import os \n",
        "\n",
        "# Set the OPENAI_API_KEY environment variable\n",
        "os.environ[\"OPENAI_API_KEY\"] = \"<>\"\n",
        "\n",
        "\n",
        "!pip install openai -q"
      ]
    },
    {
      "cell_type": "code",
      "source": [
        "import openai \n",
        "\n",
        "openai.api_key = os.environ.get(\"OPENAI_API_KEY\")"
      ],
      "metadata": {
        "id": "W9kXKMycWsBC"
      },
      "execution_count": 3,
      "outputs": []
    },
    {
      "cell_type": "code",
      "source": [
        "# check if acct. has gpt-4 access\n",
        "\"gpt-4\" in [model[\"root\"] for model in openai.Model.list()[\"data\"]]"
      ],
      "metadata": {
        "colab": {
          "base_uri": "https://localhost:8080/"
        },
        "id": "KDmhpWccWzJy",
        "outputId": "8f82b7ab-022a-4121-fc31-3991ffedc23f"
      },
      "execution_count": 4,
      "outputs": [
        {
          "output_type": "execute_result",
          "data": {
            "text/plain": [
              "False"
            ]
          },
          "metadata": {},
          "execution_count": 4
        }
      ]
    },
    {
      "cell_type": "code",
      "source": [
        "def prompt_model(prompt_list, model=\"gpt-3.5-turbo\"):\n",
        "  return openai.ChatCompletion.create(model=model, messages=prompt_list)\n",
        "\n",
        "def create_prompt(role, prompt):\n",
        "  return {\"role\" : role, \"content\" : prompt}"
      ],
      "metadata": {
        "id": "RErHzqpzZpoI"
      },
      "execution_count": 5,
      "outputs": []
    },
    {
      "cell_type": "code",
      "source": [
        "list_of_prompts = [\n",
        "    {\"role\" : \"system\", \"content\" : \"You are an expert in Python programming.\"}, \n",
        "    {\"role\" : \"user\", \"content\" : \"Please define a function that provides the Nth number of the fibonacci sequence.\"}\n",
        "]\n",
        "\n",
        "model_output = prompt_model(list_of_prompts)\n",
        "print(model_output)"
      ],
      "metadata": {
        "colab": {
          "base_uri": "https://localhost:8080/"
        },
        "id": "eE4g3pm7dQAl",
        "outputId": "12137f7c-b2d7-49d8-a7cc-ba6357fa619b"
      },
      "execution_count": 6,
      "outputs": [
        {
          "output_type": "stream",
          "name": "stdout",
          "text": [
            "{\n",
            "  \"id\": \"chatcmpl-7Py2yZ7YFUQVjdyJVBYVDTILHuRSB\",\n",
            "  \"object\": \"chat.completion\",\n",
            "  \"created\": 1686423376,\n",
            "  \"model\": \"gpt-3.5-turbo-0301\",\n",
            "  \"usage\": {\n",
            "    \"prompt_tokens\": 36,\n",
            "    \"completion_tokens\": 138,\n",
            "    \"total_tokens\": 174\n",
            "  },\n",
            "  \"choices\": [\n",
            "    {\n",
            "      \"message\": {\n",
            "        \"role\": \"assistant\",\n",
            "        \"content\": \"Sure, here's a Python function that calculates the Nth number of the Fibonacci sequence using recursion:\\n\\n```python\\ndef fibonacci(n):\\n    if n == 0:\\n        return 0\\n    elif n == 1:\\n        return 1\\n    else:\\n        return fibonacci(n-1) + fibonacci(n-2)\\n```\\n\\nThe function takes an integer `n` as input and returns the Nth number in the Fibonacci sequence. \\n\\nFor example, if you call `fibonacci(5)`, it will return the fifth number in the sequence, which is 5. Similarly, `fibonacci(10)` would return the tenth number, which is 55.\"\n",
            "      },\n",
            "      \"finish_reason\": \"stop\",\n",
            "      \"index\": 0\n",
            "    }\n",
            "  ]\n",
            "}\n"
          ]
        }
      ]
    },
    {
      "cell_type": "code",
      "source": [
        "from IPython.display import display, Markdown\n",
        "\n",
        "markdown_output = model_output[\"choices\"][0][\"message\"][\"content\"]\n",
        "\n",
        "display(Markdown(markdown_output))\n",
        "\n"
      ],
      "metadata": {
        "colab": {
          "base_uri": "https://localhost:8080/",
          "height": 239
        },
        "id": "X7byROgnfXq0",
        "outputId": "dae2904e-e35b-4139-ad35-5af7d2b8ad93"
      },
      "execution_count": 107,
      "outputs": [
        {
          "output_type": "display_data",
          "data": {
            "text/plain": [
              "<IPython.core.display.Markdown object>"
            ],
            "text/markdown": "Sure, here's a Python function that calculates the Nth number of the Fibonacci sequence using recursion:\n\n```python\ndef fibonacci(n):\n    if n == 0:\n        return 0\n    elif n == 1:\n        return 1\n    else:\n        return fibonacci(n-1) + fibonacci(n-2)\n```\n\nThe function takes an integer `n` as input and returns the Nth number in the Fibonacci sequence. \n\nFor example, if you call `fibonacci(5)`, it will return the fifth number in the sequence, which is 5. Similarly, `fibonacci(10)` would return the tenth number, which is 55."
          },
          "metadata": {}
        }
      ]
    },
    {
      "cell_type": "code",
      "source": [
        "datagen_prompts = [\n",
        "    {\"role\" : \"system\", \"content\" : \"You are a software engineering manager working on cutting edge full stack applications in FAANG. You are looking for a competent senior engineer to join the team.\"},\n",
        "    {\"role\" : \"user\", \"content\" : \"Please generate a Python list of 10 new senior fullstack engineering roles in FAANG companies with a job description for each with each set separated by the delimeter with no text spacing in json format\"},\n",
        "]"
      ],
      "metadata": {
        "id": "l78aHjjPfb9m"
      },
      "execution_count": 108,
      "outputs": []
    },
    {
      "cell_type": "code",
      "source": [
        "first_data_gen = prompt_model(datagen_prompts)\n",
        "print(first_data_gen[\"choices\"][0][\"message\"][\"content\"])"
      ],
      "metadata": {
        "colab": {
          "base_uri": "https://localhost:8080/"
        },
        "id": "aXbmWor2f9Z5",
        "outputId": "5c6b40b6-da6b-4fee-9003-71c55317809b"
      },
      "execution_count": 109,
      "outputs": [
        {
          "output_type": "stream",
          "name": "stdout",
          "text": [
            "Here's the requested information in JSON format:\n",
            "\n",
            "```json\n",
            "[\n",
            "  {\n",
            "    \"company\": \"Google\",\n",
            "    \"position\": \"Senior Fullstack Software Engineer\",\n",
            "    \"location\": \"Mountain View, CA\",\n",
            "    \"description\": \"As a Senior Fullstack Software Engineer, you will lead the design, implementation, and delivery of large-scale web applications that serve millions of users. You will collaborate closely with cross-functional teams to define technical requirements, develop high-quality code, and drive product innovation.\"\n",
            "  },\n",
            "  {\n",
            "    \"company\": \"Facebook\",\n",
            "    \"position\": \"Senior Full Stack Engineer\",\n",
            "    \"location\": \"Menlo Park, CA\",\n",
            "    \"description\": \"As a Senior Full Stack Engineer at Facebook, you will work on projects involving a diverse stack of technologies ranging from React, GraphQL, and PHP to distributed systems and scalable infrastructure. Your responsibilities will include designing and implementing user interfaces, developing server-side applications, and optimizing performance for a vast global user base.\"\n",
            "  },\n",
            "  {\n",
            "    \"company\": \"Apple\",\n",
            "    \"position\": \"Senior Fullstack Developer\",\n",
            "    \"location\": \"Cupertino, CA\",\n",
            "    \"description\": \"As a Senior Fullstack Developer at Apple, you will work on building and maintaining mission-critical applications across multiple platforms. You will be responsible for designing and implementing scalable, reliable, and high-performance software solutions, as well as mentoring junior engineers and collaborating with cross-functional teams to deliver top-notch products in a fast-paced environment.\"\n",
            "  },\n",
            "  {\n",
            "    \"company\": \"Amazon\",\n",
            "    \"position\": \"Senior Software Development Engineer - Full Stack\",\n",
            "    \"location\": \"Seattle, WA\",\n",
            "    \"description\": \"As a Senior Software Development Engineer at Amazon, you will be responsible for designing and building complex full-stack applications that scale to millions of users. You will work on cutting-edge technologies such as React, Node.js, AWS, and more, collaborating with top-tier engineers and architects to deliver high-quality software solutions to meet customer needs.\"\n",
            "  },\n",
            "  {\n",
            "    \"company\": \"Netflix\",\n",
            "    \"position\": \"Senior Full Stack Engineer\",\n",
            "    \"location\": \"Los Gatos, CA\",\n",
            "    \"description\": \"As a Senior Full Stack Engineer at Netflix, you will work on building and maintaining highly performant, scalable, and reliable user interfaces and server-side applications. You will collaborate with cross-functional teams to deliver high-quality features and products that delight millions of viewers around the world, using a variety of technologies such as React, Node.js, Java, and AWS.\"\n",
            "  },\n",
            "  {\n",
            "    \"company\": \"Microsoft\",\n",
            "    \"position\": \"Senior Full Stack Software Engineer\",\n",
            "    \"location\": \"Redmond, WA\",\n",
            "    \"description\": \"As a Senior Full Stack Software Engineer at Microsoft, you will work on projects involving a diverse set of technologies, from React and TypeScript on the front-end to C# and Azure on the back-end. You will be responsible for designing and implementing large-scale web applications, collaborating with cross-functional teams to deliver high-quality features on schedule, and mentoring junior engineers to help them grow their technical skills.\"\n",
            "  },\n",
            "  {\n",
            "    \"company\": \"Uber\",\n",
            "    \"position\": \"Senior Full Stack Engineer\",\n",
            "    \"location\": \"San Francisco, CA\",\n",
            "    \"description\": \"As a Senior Full Stack Engineer at Uber, you will work on building and maintaining mission-critical web applications that support millions of users globally. You will collaborate with cross-functional teams to design, implement, and optimize high-performance software solutions using a range of technologies such as React, Node.js, and Go. You will also mentor junior engineers and contribute to the open source community.\"\n",
            "  },\n",
            "  {\n",
            "    \"company\": \"LinkedIn\",\n",
            "    \"position\": \"Senior Full-Stack Engineer\",\n",
            "    \"location\": \"Sunnyvale, CA\",\n",
            "    \"description\": \"As a Senior Full-Stack Engineer at LinkedIn, you will work on designing and building innovative solutions that leverage the latest web technologies to enhance the professional networking experience for millions of users worldwide. You will collaborate with cross-functional teams to deliver high-quality features and products, using a variety of technologies such as React, Node.js, and Java.\"\n",
            "  },\n",
            "  {\n",
            "    \"company\": \"Twitter\",\n",
            "    \"position\": \"Senior Full Stack Engineer\",\n",
            "    \"location\": \"San Francisco, CA\",\n",
            "    \"description\": \"As a Senior Full Stack Engineer at Twitter, you will work on building and maintaining scalable, reliable, and high-performance web applications that serve millions of users worldwide. You will collaborate with cross-functional teams to design and implement user interfaces, server-side applications, and data pipelines, using a range of technologies such as React, Ruby on Rails, and Scala.\"\n",
            "  },\n",
            "  {\n",
            "    \"company\": \"Oracle\",\n",
            "    \"position\": \"Senior Full Stack Engineer\",\n",
            "    \"location\": \"Redwood City, CA\",\n",
            "    \"description\": \"As a Senior Full Stack Engineer at Oracle, you will work on designing and developing large-scale applications that serve a variety of industry domains and use cases. You will collaborate with cross-functional teams to define technical requirements, develop high-quality code, and drive product innovation, using a variety of technologies such as React, Java, and Oracle Cloud.\"\n",
            "  }\n",
            "]\n",
            "```\n"
          ]
        }
      ]
    },
    {
      "cell_type": "code",
      "source": [
        "def retrieve_token_usage(open_ai_response):\n",
        "  return sum([tokens for tokens in open_ai_response[\"usage\"].values()])"
      ],
      "metadata": {
        "id": "D3_tWQyZm9TW"
      },
      "execution_count": 110,
      "outputs": []
    },
    {
      "cell_type": "code",
      "source": [
        "f\"We used {retrieve_token_usage(first_data_gen)} tokens\""
      ],
      "metadata": {
        "colab": {
          "base_uri": "https://localhost:8080/",
          "height": 35
        },
        "id": "yU_Ux8dknESz",
        "outputId": "70490f6f-0c15-4e33-ecd8-212553c81927"
      },
      "execution_count": 111,
      "outputs": [
        {
          "output_type": "execute_result",
          "data": {
            "text/plain": [
              "'We used 2272 tokens'"
            ],
            "application/vnd.google.colaboratory.intrinsic+json": {
              "type": "string"
            }
          },
          "metadata": {},
          "execution_count": 111
        }
      ]
    },
    {
      "cell_type": "code",
      "source": [
        "text_response = first_data_gen[\"choices\"][0][\"message\"][\"content\"]"
      ],
      "metadata": {
        "id": "QipgYUjiqss_"
      },
      "execution_count": 112,
      "outputs": []
    },
    {
      "cell_type": "code",
      "source": [
        "import json\n",
        "\n",
        "job_data = json.loads(text_response.split(\"```\")[1][4:])"
      ],
      "metadata": {
        "id": "Lh9M0Y8ly6jS"
      },
      "execution_count": 114,
      "outputs": []
    },
    {
      "cell_type": "code",
      "source": [
        "job_data\n",
        "\n",
        "\n",
        "# You might need to format and clean the data based on the output"
      ],
      "metadata": {
        "colab": {
          "base_uri": "https://localhost:8080/"
        },
        "id": "r9RsGTeBnJcn",
        "outputId": "d10ed5b6-37e7-4d99-8815-af904d6082ff"
      },
      "execution_count": 115,
      "outputs": [
        {
          "output_type": "execute_result",
          "data": {
            "text/plain": [
              "[{'company': 'Google',\n",
              "  'position': 'Senior Fullstack Software Engineer',\n",
              "  'location': 'Mountain View, CA',\n",
              "  'description': 'As a Senior Fullstack Software Engineer, you will lead the design, implementation, and delivery of large-scale web applications that serve millions of users. You will collaborate closely with cross-functional teams to define technical requirements, develop high-quality code, and drive product innovation.'},\n",
              " {'company': 'Facebook',\n",
              "  'position': 'Senior Full Stack Engineer',\n",
              "  'location': 'Menlo Park, CA',\n",
              "  'description': 'As a Senior Full Stack Engineer at Facebook, you will work on projects involving a diverse stack of technologies ranging from React, GraphQL, and PHP to distributed systems and scalable infrastructure. Your responsibilities will include designing and implementing user interfaces, developing server-side applications, and optimizing performance for a vast global user base.'},\n",
              " {'company': 'Apple',\n",
              "  'position': 'Senior Fullstack Developer',\n",
              "  'location': 'Cupertino, CA',\n",
              "  'description': 'As a Senior Fullstack Developer at Apple, you will work on building and maintaining mission-critical applications across multiple platforms. You will be responsible for designing and implementing scalable, reliable, and high-performance software solutions, as well as mentoring junior engineers and collaborating with cross-functional teams to deliver top-notch products in a fast-paced environment.'},\n",
              " {'company': 'Amazon',\n",
              "  'position': 'Senior Software Development Engineer - Full Stack',\n",
              "  'location': 'Seattle, WA',\n",
              "  'description': 'As a Senior Software Development Engineer at Amazon, you will be responsible for designing and building complex full-stack applications that scale to millions of users. You will work on cutting-edge technologies such as React, Node.js, AWS, and more, collaborating with top-tier engineers and architects to deliver high-quality software solutions to meet customer needs.'},\n",
              " {'company': 'Netflix',\n",
              "  'position': 'Senior Full Stack Engineer',\n",
              "  'location': 'Los Gatos, CA',\n",
              "  'description': 'As a Senior Full Stack Engineer at Netflix, you will work on building and maintaining highly performant, scalable, and reliable user interfaces and server-side applications. You will collaborate with cross-functional teams to deliver high-quality features and products that delight millions of viewers around the world, using a variety of technologies such as React, Node.js, Java, and AWS.'},\n",
              " {'company': 'Microsoft',\n",
              "  'position': 'Senior Full Stack Software Engineer',\n",
              "  'location': 'Redmond, WA',\n",
              "  'description': 'As a Senior Full Stack Software Engineer at Microsoft, you will work on projects involving a diverse set of technologies, from React and TypeScript on the front-end to C# and Azure on the back-end. You will be responsible for designing and implementing large-scale web applications, collaborating with cross-functional teams to deliver high-quality features on schedule, and mentoring junior engineers to help them grow their technical skills.'},\n",
              " {'company': 'Uber',\n",
              "  'position': 'Senior Full Stack Engineer',\n",
              "  'location': 'San Francisco, CA',\n",
              "  'description': 'As a Senior Full Stack Engineer at Uber, you will work on building and maintaining mission-critical web applications that support millions of users globally. You will collaborate with cross-functional teams to design, implement, and optimize high-performance software solutions using a range of technologies such as React, Node.js, and Go. You will also mentor junior engineers and contribute to the open source community.'},\n",
              " {'company': 'LinkedIn',\n",
              "  'position': 'Senior Full-Stack Engineer',\n",
              "  'location': 'Sunnyvale, CA',\n",
              "  'description': 'As a Senior Full-Stack Engineer at LinkedIn, you will work on designing and building innovative solutions that leverage the latest web technologies to enhance the professional networking experience for millions of users worldwide. You will collaborate with cross-functional teams to deliver high-quality features and products, using a variety of technologies such as React, Node.js, and Java.'},\n",
              " {'company': 'Twitter',\n",
              "  'position': 'Senior Full Stack Engineer',\n",
              "  'location': 'San Francisco, CA',\n",
              "  'description': 'As a Senior Full Stack Engineer at Twitter, you will work on building and maintaining scalable, reliable, and high-performance web applications that serve millions of users worldwide. You will collaborate with cross-functional teams to design and implement user interfaces, server-side applications, and data pipelines, using a range of technologies such as React, Ruby on Rails, and Scala.'},\n",
              " {'company': 'Oracle',\n",
              "  'position': 'Senior Full Stack Engineer',\n",
              "  'location': 'Redwood City, CA',\n",
              "  'description': 'As a Senior Full Stack Engineer at Oracle, you will work on designing and developing large-scale applications that serve a variety of industry domains and use cases. You will collaborate with cross-functional teams to define technical requirements, develop high-quality code, and drive product innovation, using a variety of technologies such as React, Java, and Oracle Cloud.'}]"
            ]
          },
          "metadata": {},
          "execution_count": 115
        }
      ]
    },
    {
      "cell_type": "code",
      "source": [
        "system_prompt = create_prompt(\n",
        "    \"system\", \n",
        "    \"You are a senior software engineer. You are proficient at designing software systems, working on both front end and back end code, with extended experience in using python servers and React javascript client bundled with webpack. You write cover letters for job descriptions which showcases your expertise in the domain of the supplied job description\"\n",
        ")"
      ],
      "metadata": {
        "id": "fN2HSMUEv2m3"
      },
      "execution_count": 116,
      "outputs": []
    },
    {
      "cell_type": "code",
      "source": [
        "def generate_user_prompt(role, company, description):\n",
        "  user_prompt = create_prompt(\n",
        "      \"user\",\n",
        "      f\"Please create a cover letter for this role: {role} and this job description: {description}, in this company {company}\"\n",
        "  )\n",
        "\n",
        "  return user_prompt"
      ],
      "metadata": {
        "id": "Ifx1gdak0p-6"
      },
      "execution_count": 117,
      "outputs": []
    },
    {
      "cell_type": "code",
      "source": [
        "job_data\n",
        "\n",
        "for idx, item in enumerate(job_data):\n",
        "  print(item)\n",
        "\n",
        "  print(item['position'])"
      ],
      "metadata": {
        "colab": {
          "base_uri": "https://localhost:8080/"
        },
        "id": "ubdsSAEG1X2W",
        "outputId": "f7cdc34d-5a40-42ad-c21c-047875506bb6"
      },
      "execution_count": 119,
      "outputs": [
        {
          "output_type": "stream",
          "name": "stdout",
          "text": [
            "{'company': 'Google', 'position': 'Senior Fullstack Software Engineer', 'location': 'Mountain View, CA', 'description': 'As a Senior Fullstack Software Engineer, you will lead the design, implementation, and delivery of large-scale web applications that serve millions of users. You will collaborate closely with cross-functional teams to define technical requirements, develop high-quality code, and drive product innovation.'}\n",
            "Senior Fullstack Software Engineer\n",
            "{'company': 'Facebook', 'position': 'Senior Full Stack Engineer', 'location': 'Menlo Park, CA', 'description': 'As a Senior Full Stack Engineer at Facebook, you will work on projects involving a diverse stack of technologies ranging from React, GraphQL, and PHP to distributed systems and scalable infrastructure. Your responsibilities will include designing and implementing user interfaces, developing server-side applications, and optimizing performance for a vast global user base.'}\n",
            "Senior Full Stack Engineer\n",
            "{'company': 'Apple', 'position': 'Senior Fullstack Developer', 'location': 'Cupertino, CA', 'description': 'As a Senior Fullstack Developer at Apple, you will work on building and maintaining mission-critical applications across multiple platforms. You will be responsible for designing and implementing scalable, reliable, and high-performance software solutions, as well as mentoring junior engineers and collaborating with cross-functional teams to deliver top-notch products in a fast-paced environment.'}\n",
            "Senior Fullstack Developer\n",
            "{'company': 'Amazon', 'position': 'Senior Software Development Engineer - Full Stack', 'location': 'Seattle, WA', 'description': 'As a Senior Software Development Engineer at Amazon, you will be responsible for designing and building complex full-stack applications that scale to millions of users. You will work on cutting-edge technologies such as React, Node.js, AWS, and more, collaborating with top-tier engineers and architects to deliver high-quality software solutions to meet customer needs.'}\n",
            "Senior Software Development Engineer - Full Stack\n",
            "{'company': 'Netflix', 'position': 'Senior Full Stack Engineer', 'location': 'Los Gatos, CA', 'description': 'As a Senior Full Stack Engineer at Netflix, you will work on building and maintaining highly performant, scalable, and reliable user interfaces and server-side applications. You will collaborate with cross-functional teams to deliver high-quality features and products that delight millions of viewers around the world, using a variety of technologies such as React, Node.js, Java, and AWS.'}\n",
            "Senior Full Stack Engineer\n",
            "{'company': 'Microsoft', 'position': 'Senior Full Stack Software Engineer', 'location': 'Redmond, WA', 'description': 'As a Senior Full Stack Software Engineer at Microsoft, you will work on projects involving a diverse set of technologies, from React and TypeScript on the front-end to C# and Azure on the back-end. You will be responsible for designing and implementing large-scale web applications, collaborating with cross-functional teams to deliver high-quality features on schedule, and mentoring junior engineers to help them grow their technical skills.'}\n",
            "Senior Full Stack Software Engineer\n",
            "{'company': 'Uber', 'position': 'Senior Full Stack Engineer', 'location': 'San Francisco, CA', 'description': 'As a Senior Full Stack Engineer at Uber, you will work on building and maintaining mission-critical web applications that support millions of users globally. You will collaborate with cross-functional teams to design, implement, and optimize high-performance software solutions using a range of technologies such as React, Node.js, and Go. You will also mentor junior engineers and contribute to the open source community.'}\n",
            "Senior Full Stack Engineer\n",
            "{'company': 'LinkedIn', 'position': 'Senior Full-Stack Engineer', 'location': 'Sunnyvale, CA', 'description': 'As a Senior Full-Stack Engineer at LinkedIn, you will work on designing and building innovative solutions that leverage the latest web technologies to enhance the professional networking experience for millions of users worldwide. You will collaborate with cross-functional teams to deliver high-quality features and products, using a variety of technologies such as React, Node.js, and Java.'}\n",
            "Senior Full-Stack Engineer\n",
            "{'company': 'Twitter', 'position': 'Senior Full Stack Engineer', 'location': 'San Francisco, CA', 'description': 'As a Senior Full Stack Engineer at Twitter, you will work on building and maintaining scalable, reliable, and high-performance web applications that serve millions of users worldwide. You will collaborate with cross-functional teams to design and implement user interfaces, server-side applications, and data pipelines, using a range of technologies such as React, Ruby on Rails, and Scala.'}\n",
            "Senior Full Stack Engineer\n",
            "{'company': 'Oracle', 'position': 'Senior Full Stack Engineer', 'location': 'Redwood City, CA', 'description': 'As a Senior Full Stack Engineer at Oracle, you will work on designing and developing large-scale applications that serve a variety of industry domains and use cases. You will collaborate with cross-functional teams to define technical requirements, develop high-quality code, and drive product innovation, using a variety of technologies such as React, Java, and Oracle Cloud.'}\n",
            "Senior Full Stack Engineer\n"
          ]
        }
      ]
    },
    {
      "cell_type": "code",
      "source": [
        "from openai.error import RateLimitError\n",
        "total_token_usage = 0\n",
        "\n",
        "for idx, item in enumerate(job_data):\n",
        "  if \"cover_letter\" in item:\n",
        "    continue\n",
        "  print(f\"Working on {idx}\")\n",
        "  user_prompt = generate_user_prompt(item['position'], item['company'], item['description'])\n",
        "  full_prompt = [system_prompt, user_prompt]\n",
        "  try: \n",
        "    prompt_response = prompt_model(full_prompt)\n",
        "    item[\"cover_letter\"] = prompt_response[\"choices\"][0][\"message\"][\"content\"]\n",
        "    total_token_usage += retrieve_token_usage(prompt_response)\n",
        "  except RateLimitError as e:\n",
        "    continue"
      ],
      "metadata": {
        "colab": {
          "base_uri": "https://localhost:8080/"
        },
        "id": "_-xyWhrE0-u9",
        "outputId": "a88bfdbc-5acc-4706-dea1-b9f777615453"
      },
      "execution_count": 120,
      "outputs": [
        {
          "output_type": "stream",
          "name": "stdout",
          "text": [
            "Working on 0\n",
            "Working on 1\n",
            "Working on 2\n",
            "Working on 3\n",
            "Working on 4\n",
            "Working on 5\n",
            "Working on 6\n",
            "Working on 7\n",
            "Working on 8\n",
            "Working on 9\n"
          ]
        }
      ]
    },
    {
      "cell_type": "code",
      "source": [
        "job_and_cover_letter_dataset = [job_and_cl for job_and_cl in job_data if \"cover_letter\" in job_and_cl]\n"
      ],
      "metadata": {
        "id": "0drp7vpR12Gf"
      },
      "execution_count": 121,
      "outputs": []
    },
    {
      "cell_type": "code",
      "source": [
        "!pip install huggingface_hub -q"
      ],
      "metadata": {
        "id": "63D0m-wo2LjP"
      },
      "execution_count": 122,
      "outputs": []
    },
    {
      "cell_type": "code",
      "source": [
        "!huggingface-cli login"
      ],
      "metadata": {
        "colab": {
          "base_uri": "https://localhost:8080/"
        },
        "id": "751of_D42RhE",
        "outputId": "02e90271-2422-4202-e258-62591344f55f"
      },
      "execution_count": 124,
      "outputs": [
        {
          "output_type": "stream",
          "name": "stdout",
          "text": [
            "\n",
            "    _|    _|  _|    _|    _|_|_|    _|_|_|  _|_|_|  _|      _|    _|_|_|      _|_|_|_|    _|_|      _|_|_|  _|_|_|_|\n",
            "    _|    _|  _|    _|  _|        _|          _|    _|_|    _|  _|            _|        _|    _|  _|        _|\n",
            "    _|_|_|_|  _|    _|  _|  _|_|  _|  _|_|    _|    _|  _|  _|  _|  _|_|      _|_|_|    _|_|_|_|  _|        _|_|_|\n",
            "    _|    _|  _|    _|  _|    _|  _|    _|    _|    _|    _|_|  _|    _|      _|        _|    _|  _|        _|\n",
            "    _|    _|    _|_|      _|_|_|    _|_|_|  _|_|_|  _|      _|    _|_|_|      _|        _|    _|    _|_|_|  _|_|_|_|\n",
            "    \n",
            "    A token is already saved on your machine. Run `huggingface-cli whoami` to get more information or `huggingface-cli logout` if you want to log out.\n",
            "    Setting a new token will erase the existing one.\n",
            "    To login, `huggingface_hub` requires a token generated from https://huggingface.co/settings/tokens .\n",
            "Token: \n",
            "Add token as git credential? (Y/n) n\n",
            "Token is valid (permission: write).\n",
            "Your token has been saved to /root/.cache/huggingface/token\n",
            "Login successful\n"
          ]
        }
      ]
    },
    {
      "cell_type": "code",
      "source": [
        "!pip install datasets -q\n"
      ],
      "metadata": {
        "id": "gPCMBJdD2ncF"
      },
      "execution_count": 125,
      "outputs": []
    },
    {
      "cell_type": "code",
      "source": [
        "from datasets import load_dataset, Dataset\n",
        "import pandas as pd"
      ],
      "metadata": {
        "id": "VKjPeOsu2teB"
      },
      "execution_count": 126,
      "outputs": []
    },
    {
      "cell_type": "code",
      "source": [
        "hf_dataset = Dataset.from_pandas(pd.DataFrame(data=job_and_cover_letter_dataset))\n"
      ],
      "metadata": {
        "id": "ybjNM4hb2vQd"
      },
      "execution_count": 127,
      "outputs": []
    },
    {
      "cell_type": "code",
      "source": [
        "hf_dataset"
      ],
      "metadata": {
        "colab": {
          "base_uri": "https://localhost:8080/"
        },
        "id": "fYxANKZd3JRJ",
        "outputId": "cc36ec02-d003-427d-8279-53eb90019414"
      },
      "execution_count": 128,
      "outputs": [
        {
          "output_type": "execute_result",
          "data": {
            "text/plain": [
              "Dataset({\n",
              "    features: ['company', 'position', 'location', 'description', 'cover_letter'],\n",
              "    num_rows: 7\n",
              "})"
            ]
          },
          "metadata": {},
          "execution_count": 128
        }
      ]
    },
    {
      "cell_type": "code",
      "source": [
        "hf_username = \"jenrajaseharan\"\n",
        "dataset_name = \"job_and_cover_letter_dataset\"\n",
        "\n",
        "hf_dataset.push_to_hub(f\"{hf_username}/{dataset_name}\")"
      ],
      "metadata": {
        "colab": {
          "base_uri": "https://localhost:8080/",
          "height": 113,
          "referenced_widgets": [
            "1e158a3f491e421790d71d2472caeefc",
            "868cff79d3074d1ab3492666df8a5ebc",
            "69f196a5587b4d2780c7941a27c3e3ff",
            "8a7646a0735c49f298fb9679b117af8e",
            "c3c653c3a0154f0faf120c09dd353c9f",
            "adf055d5db8040f194dc704ca29f3baa",
            "2e0b61dbe09f4e02a1aeaf2569f80dd1",
            "811057130a9b4ec5a17a8f4883286be1",
            "ca948c65c3b7448990b1da5c9839bca5",
            "2fc77810f270450cbb06066a693e11bd",
            "33691c99bfc14f89a37003165c9d663e",
            "05337cd65464404fa3ee8476da179958",
            "64028a6012e94f159462633625872f9f",
            "1f28b9903dbc4c3ab52bdc9fc39d553a",
            "9db5dcbacb864bd3bc3ea1d9054707e3",
            "cecab8faa57d4ed0a9e90e41d21a2150",
            "f69aee8efe5741fabedee429951a8d05",
            "d7024c28a5034593bb377119dd15c8b1",
            "aba777ebc341460e916264f640d18458",
            "2b56937a296a484f8ea12e6d839ec0fc",
            "1f3953cc19c54b469a453997b710bf5a",
            "784bbceb617e4849b48d6cfa55c7328a",
            "71212e6659d14e28a622b8f884e54f69",
            "01c944a76a5647ebad8bf1ffc024e151",
            "596a04e9078f413db7af488fa69f2491",
            "55c4ac6717014046963c184e6d54b78c",
            "6bf4da488e0c4f6d97636eaf51695010",
            "07dd6eb7bb1b405081587269338c213e",
            "d8ac18da6650483eaa676beabf13308b",
            "e3633b8a6d694d34a0f3dd912e2c103b",
            "c569fa72a86646d1a6b34714e3764969",
            "241b15e2eec540358efc01cad738f77c",
            "6c8dd791fa0e4722babf8e14a1532b5f"
          ]
        },
        "id": "tNtcmCWp3O6C",
        "outputId": "601533a8-7488-44c1-e8d6-eddc61cc6715"
      },
      "execution_count": 129,
      "outputs": [
        {
          "output_type": "display_data",
          "data": {
            "text/plain": [
              "Pushing dataset shards to the dataset hub:   0%|          | 0/1 [00:00<?, ?it/s]"
            ],
            "application/vnd.jupyter.widget-view+json": {
              "version_major": 2,
              "version_minor": 0,
              "model_id": "1e158a3f491e421790d71d2472caeefc"
            }
          },
          "metadata": {}
        },
        {
          "output_type": "display_data",
          "data": {
            "text/plain": [
              "Creating parquet from Arrow format:   0%|          | 0/1 [00:00<?, ?ba/s]"
            ],
            "application/vnd.jupyter.widget-view+json": {
              "version_major": 2,
              "version_minor": 0,
              "model_id": "05337cd65464404fa3ee8476da179958"
            }
          },
          "metadata": {}
        },
        {
          "output_type": "display_data",
          "data": {
            "text/plain": [
              "Upload 1 LFS files:   0%|          | 0/1 [00:00<?, ?it/s]"
            ],
            "application/vnd.jupyter.widget-view+json": {
              "version_major": 2,
              "version_minor": 0,
              "model_id": "71212e6659d14e28a622b8f884e54f69"
            }
          },
          "metadata": {}
        }
      ]
    }
  ]
}